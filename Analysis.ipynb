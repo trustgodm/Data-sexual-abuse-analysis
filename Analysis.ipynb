{
 "cells": [
  {
   "cell_type": "code",
   "execution_count": 50,
   "metadata": {},
   "outputs": [],
   "source": [
    "import pandas as pd\n",
    "import numpy as np"
   ]
  },
  {
   "cell_type": "markdown",
   "metadata": {},
   "source": [
    "Getting the first five columns of the data"
   ]
  },
  {
   "cell_type": "code",
   "execution_count": 51,
   "metadata": {},
   "outputs": [
    {
     "data": {
      "text/html": [
       "<div>\n",
       "<style scoped>\n",
       "    .dataframe tbody tr th:only-of-type {\n",
       "        vertical-align: middle;\n",
       "    }\n",
       "\n",
       "    .dataframe tbody tr th {\n",
       "        vertical-align: top;\n",
       "    }\n",
       "\n",
       "    .dataframe thead th {\n",
       "        text-align: right;\n",
       "    }\n",
       "</style>\n",
       "<table border=\"1\" class=\"dataframe\">\n",
       "  <thead>\n",
       "    <tr style=\"text-align: right;\">\n",
       "      <th></th>\n",
       "      <th>\"Children are safe among family members such as grandparents, uncles, aunts, cousins\"</th>\n",
       "      <th>\"Children are mainly abused by strangers in our society\"</th>\n",
       "      <th>Male children dont need sexual abuse prevention knowledge</th>\n",
       "      <th>\"Teaching sexual abuse prevention in school is not necessary. It will make children curious about sex\"</th>\n",
       "      <th>Do you know what child grooming is?</th>\n",
       "      <th>Do you know what signs to look for to identify if your child has been abused?</th>\n",
       "      <th>Do you think children need post abuse counseling for recovering?</th>\n",
       "      <th>Do you think you should take legal action against the abuser of your child?</th>\n",
       "      <th>Knowledge Level</th>\n",
       "    </tr>\n",
       "  </thead>\n",
       "  <tbody>\n",
       "    <tr>\n",
       "      <th>0</th>\n",
       "      <td>Agree</td>\n",
       "      <td>Agree</td>\n",
       "      <td>Disagree</td>\n",
       "      <td>Agree</td>\n",
       "      <td>No</td>\n",
       "      <td>No</td>\n",
       "      <td>No</td>\n",
       "      <td>Yes</td>\n",
       "      <td>Beginner</td>\n",
       "    </tr>\n",
       "    <tr>\n",
       "      <th>1</th>\n",
       "      <td>Agree</td>\n",
       "      <td>Agree</td>\n",
       "      <td>Disagree</td>\n",
       "      <td>Disagree</td>\n",
       "      <td>No</td>\n",
       "      <td>No</td>\n",
       "      <td>Yes</td>\n",
       "      <td>Yes</td>\n",
       "      <td>Beginner</td>\n",
       "    </tr>\n",
       "    <tr>\n",
       "      <th>2</th>\n",
       "      <td>Disagree</td>\n",
       "      <td>Disagree</td>\n",
       "      <td>Disagree</td>\n",
       "      <td>Disagree</td>\n",
       "      <td>No</td>\n",
       "      <td>No</td>\n",
       "      <td>Yes</td>\n",
       "      <td>Yes</td>\n",
       "      <td>Beginner</td>\n",
       "    </tr>\n",
       "    <tr>\n",
       "      <th>3</th>\n",
       "      <td>Agree</td>\n",
       "      <td>Agree</td>\n",
       "      <td>Disagree</td>\n",
       "      <td>Disagree</td>\n",
       "      <td>No</td>\n",
       "      <td>No</td>\n",
       "      <td>Yes</td>\n",
       "      <td>Yes</td>\n",
       "      <td>Beginner</td>\n",
       "    </tr>\n",
       "    <tr>\n",
       "      <th>4</th>\n",
       "      <td>Agree</td>\n",
       "      <td>Disagree</td>\n",
       "      <td>Disagree</td>\n",
       "      <td>Disagree</td>\n",
       "      <td>Yes</td>\n",
       "      <td>Yes</td>\n",
       "      <td>Yes</td>\n",
       "      <td>Yes</td>\n",
       "      <td>Intermediate</td>\n",
       "    </tr>\n",
       "  </tbody>\n",
       "</table>\n",
       "</div>"
      ],
      "text/plain": [
       "  \"Children are safe among family members such as grandparents, uncles, aunts, cousins\"  \\\n",
       "0                                              Agree                                      \n",
       "1                                              Agree                                      \n",
       "2                                           Disagree                                      \n",
       "3                                              Agree                                      \n",
       "4                                              Agree                                      \n",
       "\n",
       "  \"Children are mainly abused by strangers in our society\"  \\\n",
       "0                                              Agree         \n",
       "1                                              Agree         \n",
       "2                                           Disagree         \n",
       "3                                              Agree         \n",
       "4                                           Disagree         \n",
       "\n",
       "  Male children dont need sexual abuse prevention knowledge  \\\n",
       "0                                           Disagree          \n",
       "1                                           Disagree          \n",
       "2                                           Disagree          \n",
       "3                                           Disagree          \n",
       "4                                           Disagree          \n",
       "\n",
       "  \"Teaching sexual abuse prevention in school is not necessary. It will make children curious about sex\"  \\\n",
       "0                                              Agree                                                       \n",
       "1                                           Disagree                                                       \n",
       "2                                           Disagree                                                       \n",
       "3                                           Disagree                                                       \n",
       "4                                           Disagree                                                       \n",
       "\n",
       "  Do you know what child grooming is?  \\\n",
       "0                                  No   \n",
       "1                                  No   \n",
       "2                                  No   \n",
       "3                                  No   \n",
       "4                                 Yes   \n",
       "\n",
       "  Do you know what signs to look for to identify if your child has been abused?  \\\n",
       "0                                                 No                              \n",
       "1                                                 No                              \n",
       "2                                                 No                              \n",
       "3                                                 No                              \n",
       "4                                                Yes                              \n",
       "\n",
       "  Do you think children need post abuse counseling for recovering?  \\\n",
       "0                                                 No                 \n",
       "1                                                Yes                 \n",
       "2                                                Yes                 \n",
       "3                                                Yes                 \n",
       "4                                                Yes                 \n",
       "\n",
       "  Do you think you should take legal action against the abuser of your child?  \\\n",
       "0                                                Yes                            \n",
       "1                                                Yes                            \n",
       "2                                                Yes                            \n",
       "3                                                Yes                            \n",
       "4                                                Yes                            \n",
       "\n",
       "  Knowledge Level  \n",
       "0        Beginner  \n",
       "1        Beginner  \n",
       "2        Beginner  \n",
       "3        Beginner  \n",
       "4    Intermediate  "
      ]
     },
     "execution_count": 51,
     "metadata": {},
     "output_type": "execute_result"
    }
   ],
   "source": [
    "data = pd.read_csv('CSA-Data.csv')\n",
    "data.head()"
   ]
  },
  {
   "cell_type": "markdown",
   "metadata": {},
   "source": [
    "Checking the data types of each column"
   ]
  },
  {
   "cell_type": "code",
   "execution_count": 52,
   "metadata": {},
   "outputs": [
    {
     "name": "stdout",
     "output_type": "stream",
     "text": [
      "<class 'pandas.core.frame.DataFrame'>\n",
      "RangeIndex: 3002 entries, 0 to 3001\n",
      "Data columns (total 9 columns):\n",
      " #   Column                                                                                                  Non-Null Count  Dtype \n",
      "---  ------                                                                                                  --------------  ----- \n",
      " 0   \"Children are safe among family members such as grandparents, uncles, aunts, cousins\"                   3002 non-null   object\n",
      " 1   \"Children are mainly abused by strangers in our society\"                                                3002 non-null   object\n",
      " 2   Male children dont need sexual abuse prevention knowledge                                               3002 non-null   object\n",
      " 3   \"Teaching sexual abuse prevention in school is not necessary. It will make children curious about sex\"  3002 non-null   object\n",
      " 4   Do you know what child grooming is?                                                                     3002 non-null   object\n",
      " 5   Do you know what signs to look for to identify if your child has been abused?                           3002 non-null   object\n",
      " 6   Do you think children need post abuse counseling for recovering?                                        3002 non-null   object\n",
      " 7   Do you think you should take legal action against the abuser of your child?                             3002 non-null   object\n",
      " 8   Knowledge Level                                                                                         3002 non-null   object\n",
      "dtypes: object(9)\n",
      "memory usage: 211.2+ KB\n"
     ]
    }
   ],
   "source": [
    "data.info()"
   ]
  },
  {
   "cell_type": "markdown",
   "metadata": {},
   "source": [
    "Checking any null values and how many they are."
   ]
  },
  {
   "cell_type": "code",
   "execution_count": 53,
   "metadata": {},
   "outputs": [
    {
     "data": {
      "text/plain": [
       "\"Children are safe among family members such as grandparents, uncles, aunts, cousins\"                     0\n",
       "\"Children are mainly abused by strangers in our society\"                                                  0\n",
       "Male children dont need sexual abuse prevention knowledge                                                 0\n",
       "\"Teaching sexual abuse prevention in school is not necessary. It will make children curious about sex\"    0\n",
       "Do you know what child grooming is?                                                                       0\n",
       "Do you know what signs to look for to identify if your child has been abused?                             0\n",
       "Do you think children need post abuse counseling for recovering?                                          0\n",
       "Do you think you should take legal action against the abuser of your child?                               0\n",
       "Knowledge Level                                                                                           0\n",
       "dtype: int64"
      ]
     },
     "execution_count": 53,
     "metadata": {},
     "output_type": "execute_result"
    }
   ],
   "source": [
    "data.isnull().sum()"
   ]
  },
  {
   "cell_type": "markdown",
   "metadata": {},
   "source": [
    "I am going to use decision trees to check which question or statement contribute too much to sexual abuse, then people of any age group should be aware of it."
   ]
  },
  {
   "cell_type": "code",
   "execution_count": 63,
   "metadata": {},
   "outputs": [],
   "source": [
    "# Calculating the entropy of the target variable\n",
    "\n",
    "def calc_entropy(labels):\n",
    "\n",
    "    entropy = ...\n",
    "    \n",
    "    \n",
    "    Pn =  (labels == 'beginner').sum() / len(labels)\n",
    "    Py = (labels == 'Intermediate').sum() / len(labels)\n",
    "    if Pn != 0:\n",
    "        entropy = -Pn*np.log2(Pn)\n",
    "    if Py != 0:\n",
    "        entropy = -Py*np.log2(Py)\n",
    "   \n",
    "\n",
    "    return entropy\n",
    "\n"
   ]
  },
  {
   "cell_type": "code",
   "execution_count": 98,
   "metadata": {},
   "outputs": [],
   "source": [
    "# Calculating the information gain of the target variable\n",
    "def calc_information_gain(\n",
    "    data, \n",
    "    feature, \n",
    "    target\n",
    "):\n",
    "  \n",
    "    gain = ...\n",
    "    # TODO\n",
    "   \n",
    "    target = data[target]\n",
    "    feature = data[feature]\n",
    "    feature_unique = feature.unique()\n",
    "    D = len(target)\n",
    "    D_features =[]\n",
    "    H_D = calc_entropy(target)\n",
    "   \n",
    "    for i in feature_unique: \n",
    "        sum = 0\n",
    "        for j in feature:\n",
    "            if i == j:\n",
    "                sum += 1\n",
    "        D_features.append(sum)\n",
    "   \n",
    "    target_unique = target.unique()\n",
    "    \n",
    "    probabilites = []\n",
    "   \n",
    " \n",
    "    for f in feature.unique(): \n",
    "        index = 0\n",
    "        prop = []\n",
    "        for tar in target.unique():\n",
    "            count = 0\n",
    "            index_target = 0\n",
    "            for i in range(len(target)):\n",
    "                if feature[i] == f and target[i] == target_unique[index_target]:\n",
    "                    count += 1\n",
    "            index_target += 1\n",
    "         \n",
    "            prop.append(count/D_features[index])\n",
    "        index += 1\n",
    "             \n",
    "           \n",
    "        probabilites.append(prop)\n",
    "        \n",
    "    \n",
    "    H_D_features = []\n",
    "    for prop in probabilites:\n",
    "        sum = 0\n",
    "        for p in prop:\n",
    "            if p != 0:\n",
    "                sum += -p*np.log2(p)\n",
    "        H_D_features.append(sum)\n",
    "  \n",
    "    sum = 0\n",
    "    for i in range(len(H_D_features)):\n",
    "        sum += (D_features[i])*H_D_features[i]\n",
    "    gain = H_D -(1/D)*sum\n",
    "    \n",
    "    return gain"
   ]
  },
  {
   "cell_type": "code",
   "execution_count": 99,
   "metadata": {},
   "outputs": [],
   "source": [
    "# Finding the best feature to split the data on\n",
    "\n",
    "def find_best_feature(data, target):\n",
    "    \n",
    "    best_feature = ...\n",
    "    \n",
    "    target = data[target]\n",
    "    features = data.columns\n",
    "    features = features.drop(target.name)\n",
    "    gains = []\n",
    "    for feature in features:\n",
    "        gain = calc_information_gain(data, feature, target.name)\n",
    "        gains.append(gain)\n",
    "    best_feature = features[np.argmax(gains)]\n",
    "    return best_feature"
   ]
  },
  {
   "cell_type": "markdown",
   "metadata": {},
   "source": [
    "WE'RE GOING TO TAKE THREE FACTORS THAT CONTRIBUTED MUCH ON THIS SURVEY, AND POSSIBLY CONTRIBUTED TOO MUCH TO SEXUAL ABUSE"
   ]
  },
  {
   "cell_type": "code",
   "execution_count": 67,
   "metadata": {},
   "outputs": [],
   "source": [
    "# GETTING THE BEST THREE FEATURES\n",
    "data_copy = data.copy()\n",
    "best_features = []\n",
    "for i in range(3):\n",
    "    best_feature = find_best_feature(data_copy, 'Knowledge Level')\n",
    "    best_features.append(best_feature)\n",
    "    data_copy = data_copy.drop(best_feature, axis=1)"
   ]
  },
  {
   "cell_type": "code",
   "execution_count": 103,
   "metadata": {},
   "outputs": [
    {
     "name": "stdout",
     "output_type": "stream",
     "text": [
      "THE BEST THREE FEATURES ARE:\n",
      "\n",
      "*********************************************************************************************\n",
      "Do you think children need post abuse counseling for recovering?   No   Yes\n",
      "Knowledge Level                                                            \n",
      "Beginner                                                          621  1090\n",
      "Intermediate                                                      270  1021\n",
      "*********************************************************************************************\n",
      "Do you know what signs to look for to identify if your child has been abused?    No  \\\n",
      "Knowledge Level                                                                       \n",
      "Beginner                                                                       1277   \n",
      "Intermediate                                                                    244   \n",
      "\n",
      "Do you know what signs to look for to identify if your child has been abused?   Yes  \n",
      "Knowledge Level                                                                      \n",
      "Beginner                                                                        434  \n",
      "Intermediate                                                                   1047  \n",
      "*********************************************************************************************\n",
      "\"Children are mainly abused by strangers in our society\"  Agree  Disagree\n",
      "Knowledge Level                                                          \n",
      "Beginner                                                    901       810\n",
      "Intermediate                                                401       890\n",
      "*********************************************************************************************\n"
     ]
    }
   ],
   "source": [
    "# How each knwledge level contributes to the best featurs\n",
    "responses = []\n",
    "for feature in best_features:\n",
    "    response_counts = data.groupby(['Knowledge Level', feature]).size().unstack(fill_value=0)\n",
    "    responses.append(response_counts)\n",
    "responses_dicts = []\n",
    "print(\"THE BEST THREE FEATURES ARE:\")\n",
    "print()\n",
    "print(\"*********************************************************************************************\")\n",
    "for response in responses:\n",
    "    print(response)\n",
    "    responses_dicts.append(response.to_dict())\n",
    "    print(\"*********************************************************************************************\")\n"
   ]
  },
  {
   "cell_type": "code",
   "execution_count": 77,
   "metadata": {},
   "outputs": [],
   "source": [
    "import matplotlib.pyplot as plt"
   ]
  },
  {
   "cell_type": "code",
   "execution_count": 97,
   "metadata": {},
   "outputs": [
    {
     "data": {
      "image/png": "[encoded data removed]",
      "text/plain": [
       "<Figure size 640x480 with 1 Axes>"
      ]
     },
     "metadata": {},
     "output_type": "display_data"
    },
    {
     "data": {
      "image/png": "[encoded data removed]",
      "text/plain": [
       "<Figure size 640x480 with 1 Axes>"
      ]
     },
     "metadata": {},
     "output_type": "display_data"
    },
    {
     "data": {
      "image/png": "[encoded data removed]",
      "text/plain": [
       "<Figure size 640x480 with 1 Axes>"
      ]
     },
     "metadata": {},
     "output_type": "display_data"
    }
   ],
   "source": [
    "for graph in responses_dicts:\n",
    "    labels = list(graph.keys())\n",
    "    beginner = [graph[label]['Beginner'] for label in labels]\n",
    "    intermediate = [graph[label]['Intermediate'] for label in labels]\n",
    "    x = np.arange(len(labels))\n",
    "    width = 0.35    \n",
    "    fig, ax = plt.subplots()\n",
    "    rects1 = ax.bar(x - width/2, beginner, width, label='Beginner')\n",
    "    rects2 = ax.bar(x + width/2, intermediate, width, label=\"Intermediate\") \n",
    "    ax.set_ylabel('knowledge level')\n",
    "    ax.set_title(best_features[responses_dicts.index(graph)])\n",
    "    ax.set_xlabel(\"Maturity Level\")\n",
    "    ax.legend()\n",
    "    plt.xticks(x, labels)\n",
    "    plt.show()\n"
   ]
  },
  {
   "cell_type": "markdown",
   "metadata": {},
   "source": [
    "CONCLUSION"
   ]
  },
  {
   "cell_type": "markdown",
   "metadata": {},
   "source": [
    "Looking at our second  graph we can see that beginners do not know when a person is being abused so it is unlikely for them to notice that they're being abused or someone around them is being abused.\n",
    "\n",
    "As our graphs continue conflicting each other on who knows better.\n",
    "Average shows that both classes need more lectures on this topic"
   ]
  }
 ],
 "metadata": {
  "kernelspec": {
   "display_name": "Python 3",
   "language": "python",
   "name": "python3"
  },
  "language_info": {
   "codemirror_mode": {
    "name": "ipython",
    "version": 3
   },
   "file_extension": ".py",
   "mimetype": "text/x-python",
   "name": "python",
   "nbconvert_exporter": "python",
   "pygments_lexer": "ipython3",
   "version": "3.11.9"
  }
 },
 "nbformat": 4,
 "nbformat_minor": 2
}
